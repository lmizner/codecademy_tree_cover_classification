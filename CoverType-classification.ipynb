{
 "cells": [
  {
   "cell_type": "markdown",
   "metadata": {},
   "source": [
    "## Forest Cover Classification\n",
    "\n",
    "In this project, you will use deep learning to predict forest cover type (the most common kind of tree cover) based only on cartographic variables. The actual forest cover type for a given 30 x 30 meter cell was determined from US Forest Service (USFS) Region 2 Resource Information System data. The covertypes are the following:\n",
    "\n",
    "- Spruce/Fir\n",
    "- Lodgepole Pine\n",
    "- Ponderosa Pine\n",
    "- Cottonwood/Willow\n",
    "- Aspen\n",
    "- Douglas-fir\n",
    "- Krummholz\n",
    "\n",
    "\n",
    "Independent variables were then derived from data obtained from the US Geological Survey and USFS. The data is raw and has not been scaled or preprocessed for you. It contains binary columns of data for qualitative independent variables such as wilderness areas and soil type.\n",
    "\n",
    "This study area includes four wilderness areas located in the Roosevelt National Forest of northern Colorado. These areas represent forests with minimal human-caused disturbances, so existing forest cover types are mainly a result of ecological processes rather than forest management practices.\n",
    "\n",
    "Project Objectives:\n",
    "\n",
    "Develop one or more classifiers for this multi-class classification problem.\n",
    "Use TensorFlow with Keras to build your classifier(s).\n",
    "Use your knowledge of hyperparameter tuning to improve the performance of your model(s).\n",
    "Test and analyze performance.\n",
    "Create clean and modular code."
   ]
  },
  {
   "cell_type": "code",
   "execution_count": 63,
   "metadata": {},
   "outputs": [
    {
     "name": "stdout",
     "output_type": "stream",
     "text": [
      "<class 'pandas.core.frame.DataFrame'>\n",
      "RangeIndex: 581012 entries, 0 to 581011\n",
      "Data columns (total 55 columns):\n",
      " #   Column                              Non-Null Count   Dtype\n",
      "---  ------                              --------------   -----\n",
      " 0   Elevation                           581012 non-null  int64\n",
      " 1   Aspect                              581012 non-null  int64\n",
      " 2   Slope                               581012 non-null  int64\n",
      " 3   Horizontal_Distance_To_Hydrology    581012 non-null  int64\n",
      " 4   Vertical_Distance_To_Hydrology      581012 non-null  int64\n",
      " 5   Horizontal_Distance_To_Roadways     581012 non-null  int64\n",
      " 6   Hillshade_9am                       581012 non-null  int64\n",
      " 7   Hillshade_Noon                      581012 non-null  int64\n",
      " 8   Hillshade_3pm                       581012 non-null  int64\n",
      " 9   Horizontal_Distance_To_Fire_Points  581012 non-null  int64\n",
      " 10  Wilderness_Area1                    581012 non-null  int64\n",
      " 11  Wilderness_Area2                    581012 non-null  int64\n",
      " 12  Wilderness_Area3                    581012 non-null  int64\n",
      " 13  Wilderness_Area4                    581012 non-null  int64\n",
      " 14  Soil_Type1                          581012 non-null  int64\n",
      " 15  Soil_Type2                          581012 non-null  int64\n",
      " 16  Soil_Type3                          581012 non-null  int64\n",
      " 17  Soil_Type4                          581012 non-null  int64\n",
      " 18  Soil_Type5                          581012 non-null  int64\n",
      " 19  Soil_Type6                          581012 non-null  int64\n",
      " 20  Soil_Type7                          581012 non-null  int64\n",
      " 21  Soil_Type8                          581012 non-null  int64\n",
      " 22  Soil_Type9                          581012 non-null  int64\n",
      " 23  Soil_Type10                         581012 non-null  int64\n",
      " 24  Soil_Type11                         581012 non-null  int64\n",
      " 25  Soil_Type12                         581012 non-null  int64\n",
      " 26  Soil_Type13                         581012 non-null  int64\n",
      " 27  Soil_Type14                         581012 non-null  int64\n",
      " 28  Soil_Type15                         581012 non-null  int64\n",
      " 29  Soil_Type16                         581012 non-null  int64\n",
      " 30  Soil_Type17                         581012 non-null  int64\n",
      " 31  Soil_Type18                         581012 non-null  int64\n",
      " 32  Soil_Type19                         581012 non-null  int64\n",
      " 33  Soil_Type20                         581012 non-null  int64\n",
      " 34  Soil_Type21                         581012 non-null  int64\n",
      " 35  Soil_Type22                         581012 non-null  int64\n",
      " 36  Soil_Type23                         581012 non-null  int64\n",
      " 37  Soil_Type24                         581012 non-null  int64\n",
      " 38  Soil_Type25                         581012 non-null  int64\n",
      " 39  Soil_Type26                         581012 non-null  int64\n",
      " 40  Soil_Type27                         581012 non-null  int64\n",
      " 41  Soil_Type28                         581012 non-null  int64\n",
      " 42  Soil_Type29                         581012 non-null  int64\n",
      " 43  Soil_Type30                         581012 non-null  int64\n",
      " 44  Soil_Type31                         581012 non-null  int64\n",
      " 45  Soil_Type32                         581012 non-null  int64\n",
      " 46  Soil_Type33                         581012 non-null  int64\n",
      " 47  Soil_Type34                         581012 non-null  int64\n",
      " 48  Soil_Type35                         581012 non-null  int64\n",
      " 49  Soil_Type36                         581012 non-null  int64\n",
      " 50  Soil_Type37                         581012 non-null  int64\n",
      " 51  Soil_Type38                         581012 non-null  int64\n",
      " 52  Soil_Type39                         581012 non-null  int64\n",
      " 53  Soil_Type40                         581012 non-null  int64\n",
      " 54  class                               581012 non-null  int64\n",
      "dtypes: int64(55)\n",
      "memory usage: 243.8 MB\n",
      "None\n"
     ]
    }
   ],
   "source": [
    "import pandas as pd\n",
    "from sklearn.preprocessing import StandardScaler, LabelEncoder\n",
    "from sklearn.model_selection import train_test_split\n",
    "from collections import Counter\n",
    "from sklearn.compose import ColumnTransformer\n",
    "from tensorflow.keras.models import Sequential\n",
    "from tensorflow.keras.layers import Dense, InputLayer, BatchNormalization, Dropout\n",
    "from tensorflow.keras.callbacks import EarlyStopping\n",
    "from sklearn.metrics import classification_report\n",
    "from tensorflow.keras.utils import to_categorical\n",
    "import numpy as np\n",
    "\n",
    "# Load data\n",
    "data = pd.read_csv('cover_data.csv')\n",
    "print(data.info())"
   ]
  },
  {
   "cell_type": "code",
   "execution_count": 64,
   "metadata": {},
   "outputs": [
    {
     "name": "stdout",
     "output_type": "stream",
     "text": [
      "Classes and number of values in the dataset Counter({2: 283301, 1: 211840, 3: 35754, 7: 20510, 6: 17367, 5: 9493, 4: 2747})\n"
     ]
    }
   ],
   "source": [
    "# Print distribution of class column (labels)\n",
    "print('Classes and number of values in the dataset', Counter(data['class']))"
   ]
  },
  {
   "cell_type": "code",
   "execution_count": 65,
   "metadata": {},
   "outputs": [],
   "source": [
    "# Split data into label and feature sets\n",
    "y = data['class']\n",
    "x = data[['Elevation', 'Aspect', 'Slope', 'Horizontal_Distance_To_Hydrology', 'Vertical_Distance_To_Hydrology', \n",
    "          'Horizontal_Distance_To_Roadways', 'Hillshade_9am', 'Hillshade_Noon', 'Hillshade_3pm', 'Horizontal_Distance_To_Fire_Points',\n",
    "          'Wilderness_Area1', 'Wilderness_Area2', 'Wilderness_Area3', 'Wilderness_Area4', 'Soil_Type1', 'Soil_Type2', 'Soil_Type3',\n",
    "          'Soil_Type4', 'Soil_Type5', 'Soil_Type6', 'Soil_Type7', 'Soil_Type8', 'Soil_Type9', 'Soil_Type10', 'Soil_Type11', \n",
    "          'Soil_Type12', 'Soil_Type13', 'Soil_Type14', 'Soil_Type15', 'Soil_Type16', 'Soil_Type17', 'Soil_Type18', 'Soil_Type19', \n",
    "          'Soil_Type20', 'Soil_Type21', 'Soil_Type22', 'Soil_Type23', 'Soil_Type24', 'Soil_Type25', 'Soil_Type26', 'Soil_Type27', \n",
    "          'Soil_Type28', 'Soil_Type29', 'Soil_Type30', 'Soil_Type31', 'Soil_Type32', 'Soil_Type33', 'Soil_Type34', 'Soil_Type35', \n",
    "          'Soil_Type36', 'Soil_Type37', 'Soil_Type38', 'Soil_Type39', 'Soil_Type40']]      "
   ]
  },
  {
   "cell_type": "code",
   "execution_count": 66,
   "metadata": {},
   "outputs": [],
   "source": [
    "# Split data into train and test sets\n",
    "X_train, X_test, y_train, y_test = train_test_split(x, y, test_size = 0.20, random_state = 42)"
   ]
  },
  {
   "cell_type": "code",
   "execution_count": 67,
   "metadata": {},
   "outputs": [],
   "source": [
    "# Standardize numeric features\n",
    "column_transformer = ColumnTransformer([('numeric', StandardScaler(), ['Elevation', 'Aspect', 'Slope', 'Horizontal_Distance_To_Hydrology', 'Vertical_Distance_To_Hydrology', \n",
    "          'Horizontal_Distance_To_Roadways', 'Hillshade_9am', 'Hillshade_Noon', 'Hillshade_3pm', 'Horizontal_Distance_To_Fire_Points',\n",
    "          'Wilderness_Area1', 'Wilderness_Area2', 'Wilderness_Area3', 'Wilderness_Area4', 'Soil_Type1', 'Soil_Type2', 'Soil_Type3',\n",
    "          'Soil_Type4', 'Soil_Type5', 'Soil_Type6', 'Soil_Type7', 'Soil_Type8', 'Soil_Type9', 'Soil_Type10', 'Soil_Type11', \n",
    "          'Soil_Type12', 'Soil_Type13', 'Soil_Type14', 'Soil_Type15', 'Soil_Type16', 'Soil_Type17', 'Soil_Type18', 'Soil_Type19', \n",
    "          'Soil_Type20', 'Soil_Type21', 'Soil_Type22', 'Soil_Type23', 'Soil_Type24', 'Soil_Type25', 'Soil_Type26', 'Soil_Type27', \n",
    "          'Soil_Type28', 'Soil_Type29', 'Soil_Type30', 'Soil_Type31', 'Soil_Type32', 'Soil_Type33', 'Soil_Type34', 'Soil_Type35', \n",
    "          'Soil_Type36', 'Soil_Type37', 'Soil_Type38', 'Soil_Type39', 'Soil_Type40'])])\n",
    "\n",
    "X_train = column_transformer.fit_transform(X_train)\n",
    "X_test = column_transformer.transform(X_test)"
   ]
  },
  {
   "cell_type": "code",
   "execution_count": 68,
   "metadata": {},
   "outputs": [],
   "source": [
    "# Encode labels\n",
    "label_encoder = LabelEncoder()\n",
    "\n",
    "y_train = label_encoder.fit_transform(y_train.astype(str))\n",
    "y_test = label_encoder.transform(y_test.astype(str))"
   ]
  },
  {
   "cell_type": "code",
   "execution_count": 69,
   "metadata": {},
   "outputs": [],
   "source": [
    "# Transform encoded labels into binary vectors\n",
    "y_train = to_categorical(y_train)\n",
    "y_test = to_categorical(y_test)"
   ]
  },
  {
   "cell_type": "code",
   "execution_count": 70,
   "metadata": {},
   "outputs": [],
   "source": [
    "# Build neural network\n",
    "model = Sequential()\n",
    "model.add(InputLayer(input_shape = (X_train.shape[1], )))\n",
    "\n",
    "# Hidden Layers\n",
    "model.add(Dense(64, activation='relu'))  \n",
    "model.add(BatchNormalization())\n",
    "model.add(Dropout(0.5))  \n",
    "model.add(Dense(32, activation='relu'))  \n",
    "model.add(BatchNormalization())\n",
    "model.add(Dropout(0.5))\n",
    "\n",
    "# Output Layer\n",
    "model.add(Dense(7, activation = 'softmax'))"
   ]
  },
  {
   "cell_type": "code",
   "execution_count": 71,
   "metadata": {},
   "outputs": [],
   "source": [
    "# Compile model\n",
    "model.compile(loss = 'categorical_crossentropy', optimizer = 'adam', metrics = ['accuracy'])"
   ]
  },
  {
   "cell_type": "code",
   "execution_count": 72,
   "metadata": {},
   "outputs": [
    {
     "name": "stdout",
     "output_type": "stream",
     "text": [
      "Epoch 1/100\n",
      "11621/11621 [==============================] - 6s 526us/step - loss: 0.7857 - accuracy: 0.6809 - val_loss: 0.6085 - val_accuracy: 0.7421\n",
      "Epoch 2/100\n",
      "11621/11621 [==============================] - 6s 523us/step - loss: 0.6821 - accuracy: 0.7169 - val_loss: 0.5873 - val_accuracy: 0.7528\n",
      "Epoch 3/100\n",
      "11621/11621 [==============================] - 6s 520us/step - loss: 0.6639 - accuracy: 0.7230 - val_loss: 0.5760 - val_accuracy: 0.7554\n",
      "Epoch 4/100\n",
      "11621/11621 [==============================] - 6s 519us/step - loss: 0.6561 - accuracy: 0.7253 - val_loss: 0.5687 - val_accuracy: 0.7602\n",
      "Epoch 5/100\n",
      "11621/11621 [==============================] - 6s 519us/step - loss: 0.6497 - accuracy: 0.7290 - val_loss: 0.5635 - val_accuracy: 0.7670\n",
      "Epoch 6/100\n",
      "11621/11621 [==============================] - 6s 520us/step - loss: 0.6457 - accuracy: 0.7300 - val_loss: 0.5608 - val_accuracy: 0.7655\n",
      "Epoch 7/100\n",
      "11621/11621 [==============================] - 6s 522us/step - loss: 0.6454 - accuracy: 0.7309 - val_loss: 0.5531 - val_accuracy: 0.7662\n",
      "Epoch 8/100\n",
      "11621/11621 [==============================] - 6s 522us/step - loss: 0.6415 - accuracy: 0.7322 - val_loss: 0.5565 - val_accuracy: 0.7637\n",
      "Epoch 9/100\n",
      "11621/11621 [==============================] - 6s 522us/step - loss: 0.6398 - accuracy: 0.7332 - val_loss: 0.5544 - val_accuracy: 0.7670\n",
      "Epoch 10/100\n",
      "11621/11621 [==============================] - 6s 522us/step - loss: 0.6375 - accuracy: 0.7343 - val_loss: 0.5497 - val_accuracy: 0.7674\n",
      "Epoch 11/100\n",
      "11621/11621 [==============================] - 6s 522us/step - loss: 0.6353 - accuracy: 0.7348 - val_loss: 0.5510 - val_accuracy: 0.7689\n",
      "Epoch 12/100\n",
      "11621/11621 [==============================] - 6s 523us/step - loss: 0.6355 - accuracy: 0.7357 - val_loss: 0.5483 - val_accuracy: 0.7711\n",
      "Epoch 13/100\n",
      "11621/11621 [==============================] - 6s 522us/step - loss: 0.6346 - accuracy: 0.7354 - val_loss: 0.5513 - val_accuracy: 0.7670\n",
      "Epoch 14/100\n",
      "11621/11621 [==============================] - 6s 521us/step - loss: 0.6331 - accuracy: 0.7355 - val_loss: 0.5493 - val_accuracy: 0.7665\n",
      "Epoch 15/100\n",
      "11621/11621 [==============================] - 6s 521us/step - loss: 0.6317 - accuracy: 0.7373 - val_loss: 0.5431 - val_accuracy: 0.7702\n",
      "Epoch 16/100\n",
      "11621/11621 [==============================] - 6s 522us/step - loss: 0.6327 - accuracy: 0.7363 - val_loss: 0.5413 - val_accuracy: 0.7732\n",
      "Epoch 17/100\n",
      "11621/11621 [==============================] - 6s 522us/step - loss: 0.6333 - accuracy: 0.7365 - val_loss: 0.5452 - val_accuracy: 0.7747\n",
      "Epoch 18/100\n",
      "11621/11621 [==============================] - 6s 524us/step - loss: 0.6307 - accuracy: 0.7379 - val_loss: 0.5387 - val_accuracy: 0.7735\n",
      "Epoch 19/100\n",
      "11621/11621 [==============================] - 6s 522us/step - loss: 0.6311 - accuracy: 0.7370 - val_loss: 0.5421 - val_accuracy: 0.7739\n",
      "Epoch 20/100\n",
      "11621/11621 [==============================] - 6s 524us/step - loss: 0.6302 - accuracy: 0.7388 - val_loss: 0.5396 - val_accuracy: 0.7745\n",
      "Epoch 21/100\n",
      "11621/11621 [==============================] - 6s 523us/step - loss: 0.6283 - accuracy: 0.7381 - val_loss: 0.5381 - val_accuracy: 0.7737\n",
      "Epoch 22/100\n",
      "11621/11621 [==============================] - 6s 525us/step - loss: 0.6297 - accuracy: 0.7377 - val_loss: 0.5384 - val_accuracy: 0.7736\n",
      "Epoch 23/100\n",
      "11621/11621 [==============================] - 6s 524us/step - loss: 0.6289 - accuracy: 0.7390 - val_loss: 0.5437 - val_accuracy: 0.7746\n",
      "Epoch 24/100\n",
      "11621/11621 [==============================] - 6s 523us/step - loss: 0.6272 - accuracy: 0.7390 - val_loss: 0.5350 - val_accuracy: 0.7750\n",
      "Epoch 25/100\n",
      "11621/11621 [==============================] - 6s 523us/step - loss: 0.6272 - accuracy: 0.7395 - val_loss: 0.5391 - val_accuracy: 0.7750\n",
      "Epoch 26/100\n",
      "11621/11621 [==============================] - 6s 519us/step - loss: 0.6274 - accuracy: 0.7378 - val_loss: 0.5386 - val_accuracy: 0.7756\n",
      "Epoch 27/100\n",
      "11621/11621 [==============================] - 6s 519us/step - loss: 0.6273 - accuracy: 0.7395 - val_loss: 0.5349 - val_accuracy: 0.7754\n",
      "Epoch 28/100\n",
      "11621/11621 [==============================] - 6s 529us/step - loss: 0.6280 - accuracy: 0.7386 - val_loss: 0.6462 - val_accuracy: 0.7434\n",
      "Epoch 29/100\n",
      "11621/11621 [==============================] - 6s 527us/step - loss: 0.6268 - accuracy: 0.7390 - val_loss: 0.5361 - val_accuracy: 0.7730\n",
      "Epoch 30/100\n",
      "11621/11621 [==============================] - 6s 526us/step - loss: 0.6259 - accuracy: 0.7389 - val_loss: 0.5395 - val_accuracy: 0.7724\n",
      "Epoch 31/100\n",
      "11621/11621 [==============================] - 6s 527us/step - loss: 0.6263 - accuracy: 0.7386 - val_loss: 0.5387 - val_accuracy: 0.7778\n",
      "Epoch 32/100\n",
      "11621/11621 [==============================] - 6s 527us/step - loss: 0.6244 - accuracy: 0.7400 - val_loss: 0.5376 - val_accuracy: 0.7788\n",
      "Epoch 33/100\n",
      "11621/11621 [==============================] - 6s 526us/step - loss: 0.6263 - accuracy: 0.7391 - val_loss: 0.5397 - val_accuracy: 0.7766\n",
      "Epoch 34/100\n",
      "11621/11621 [==============================] - 6s 527us/step - loss: 0.6234 - accuracy: 0.7399 - val_loss: 0.5377 - val_accuracy: 0.7764\n",
      "Epoch 35/100\n",
      "11621/11621 [==============================] - 6s 527us/step - loss: 0.6250 - accuracy: 0.7389 - val_loss: 0.5331 - val_accuracy: 0.7781\n",
      "Epoch 36/100\n",
      "11621/11621 [==============================] - 6s 527us/step - loss: 0.6243 - accuracy: 0.7403 - val_loss: 0.7322 - val_accuracy: 0.7124\n",
      "Epoch 37/100\n",
      "11621/11621 [==============================] - 6s 527us/step - loss: 0.6233 - accuracy: 0.7399 - val_loss: 0.5321 - val_accuracy: 0.7775\n",
      "Epoch 38/100\n",
      "11621/11621 [==============================] - 6s 530us/step - loss: 0.6223 - accuracy: 0.7401 - val_loss: 0.5319 - val_accuracy: 0.7784\n",
      "Epoch 39/100\n",
      "11621/11621 [==============================] - 6s 525us/step - loss: 0.6243 - accuracy: 0.7399 - val_loss: 0.5384 - val_accuracy: 0.7787\n",
      "Epoch 40/100\n",
      "11621/11621 [==============================] - 6s 526us/step - loss: 0.6244 - accuracy: 0.7393 - val_loss: 0.6278 - val_accuracy: 0.7476\n",
      "Epoch 41/100\n",
      "11621/11621 [==============================] - 6s 526us/step - loss: 0.6254 - accuracy: 0.7390 - val_loss: 0.5377 - val_accuracy: 0.7778\n",
      "Epoch 42/100\n",
      "11621/11621 [==============================] - 6s 528us/step - loss: 0.6219 - accuracy: 0.7402 - val_loss: 0.5359 - val_accuracy: 0.7785\n",
      "Epoch 43/100\n",
      "11621/11621 [==============================] - 6s 526us/step - loss: 0.6216 - accuracy: 0.7407 - val_loss: 0.5373 - val_accuracy: 0.7755\n",
      "Epoch 44/100\n",
      "11621/11621 [==============================] - 6s 527us/step - loss: 0.6227 - accuracy: 0.7408 - val_loss: 0.5339 - val_accuracy: 0.7799\n",
      "Epoch 45/100\n",
      "11621/11621 [==============================] - 6s 526us/step - loss: 0.6223 - accuracy: 0.7409 - val_loss: 0.5331 - val_accuracy: 0.7787\n",
      "Epoch 46/100\n",
      "11621/11621 [==============================] - 6s 528us/step - loss: 0.6231 - accuracy: 0.7401 - val_loss: 0.5397 - val_accuracy: 0.7787\n",
      "Epoch 47/100\n",
      "11621/11621 [==============================] - 6s 534us/step - loss: 0.6219 - accuracy: 0.7409 - val_loss: 0.5375 - val_accuracy: 0.7777\n",
      "Epoch 48/100\n",
      "11621/11621 [==============================] - 6s 529us/step - loss: 0.6222 - accuracy: 0.7414 - val_loss: 0.6808 - val_accuracy: 0.7342\n",
      "Loss:  0.6806027889251709 Accuracy:  0.7340714335441589\n"
     ]
    }
   ],
   "source": [
    "# Callback\n",
    "early_stopping = EarlyStopping(monitor = 'val_loss', patience = 10)\n",
    "\n",
    "# Train and evaluate model\n",
    "model.fit(X_train, y_train, validation_split = 0.2, epochs = 100, batch_size = 32, callbacks = [early_stopping])\n",
    "loss, accuracy = model.evaluate(X_train, y_train, verbose = 0)\n",
    "print(\"Loss: \", loss, \"Accuracy: \", accuracy)"
   ]
  },
  {
   "cell_type": "code",
   "execution_count": 73,
   "metadata": {},
   "outputs": [
    {
     "name": "stdout",
     "output_type": "stream",
     "text": [
      "              precision    recall  f1-score   support\n",
      "\n",
      "           0       0.75      0.70      0.72     42557\n",
      "           1       0.73      0.89      0.80     56500\n",
      "           2       0.68      0.70      0.69      7121\n",
      "           3       0.00      0.00      0.00       526\n",
      "           4       0.00      0.00      0.00      1995\n",
      "           5       0.87      0.05      0.09      3489\n",
      "           6       0.99      0.04      0.07      4015\n",
      "\n",
      "    accuracy                           0.73    116203\n",
      "   macro avg       0.57      0.34      0.34    116203\n",
      "weighted avg       0.73      0.73      0.70    116203\n",
      "\n"
     ]
    },
    {
     "name": "stderr",
     "output_type": "stream",
     "text": [
      "/opt/homebrew/Cellar/jupyterlab/4.0.7_1/libexec/lib/python3.11/site-packages/sklearn/metrics/_classification.py:1509: UndefinedMetricWarning: Precision is ill-defined and being set to 0.0 in labels with no predicted samples. Use `zero_division` parameter to control this behavior.\n",
      "  _warn_prf(average, modifier, f\"{metric.capitalize()} is\", len(result))\n",
      "/opt/homebrew/Cellar/jupyterlab/4.0.7_1/libexec/lib/python3.11/site-packages/sklearn/metrics/_classification.py:1509: UndefinedMetricWarning: Precision is ill-defined and being set to 0.0 in labels with no predicted samples. Use `zero_division` parameter to control this behavior.\n",
      "  _warn_prf(average, modifier, f\"{metric.capitalize()} is\", len(result))\n",
      "/opt/homebrew/Cellar/jupyterlab/4.0.7_1/libexec/lib/python3.11/site-packages/sklearn/metrics/_classification.py:1509: UndefinedMetricWarning: Precision is ill-defined and being set to 0.0 in labels with no predicted samples. Use `zero_division` parameter to control this behavior.\n",
      "  _warn_prf(average, modifier, f\"{metric.capitalize()} is\", len(result))\n"
     ]
    }
   ],
   "source": [
    "# Classification report\n",
    "y_estimate = model.predict(X_test, verbose = 0)\n",
    "y_estimate = np.argmax(y_estimate, axis = 1)\n",
    "y_true = np.argmax(y_test, axis = 1)\n",
    "print(classification_report(y_true, y_estimate))"
   ]
  },
  {
   "cell_type": "code",
   "execution_count": null,
   "metadata": {},
   "outputs": [],
   "source": []
  }
 ],
 "metadata": {
  "kernelspec": {
   "display_name": "Python 3 (ipykernel)",
   "language": "python",
   "name": "python3"
  },
  "language_info": {
   "codemirror_mode": {
    "name": "ipython",
    "version": 3
   },
   "file_extension": ".py",
   "mimetype": "text/x-python",
   "name": "python",
   "nbconvert_exporter": "python",
   "pygments_lexer": "ipython3",
   "version": "3.11.6"
  }
 },
 "nbformat": 4,
 "nbformat_minor": 4
}
